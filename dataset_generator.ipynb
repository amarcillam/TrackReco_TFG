{
 "cells": [
  {
   "cell_type": "code",
   "execution_count": null,
   "id": "6dfc5fe2",
   "metadata": {},
   "outputs": [],
   "source": [
    "from scripts.data_prep import process_event_batches\n",
    "import os, re\n",
    "import torch\n",
    "import numpy as np\n",
    "import copy as copy\n",
    "import time as time\n",
    "from pathlib import Path"
   ]
  },
  {
   "cell_type": "code",
   "execution_count": null,
   "id": "ede1140f",
   "metadata": {},
   "outputs": [],
   "source": [
    "ruta = 'data/events' #ruta a la carpeta que contiene los eventos\n",
    "file_names = [f for f in os.listdir(ruta) if os.path.isfile(os.path.join(ruta, f))]\n",
    "nums = list(dict.fromkeys(m.group(1) for f in file_names if (m := re.match(r\"^event(\\d+)-.*\\.csv$\", f))))\n"
   ]
  },
  {
   "cell_type": "markdown",
   "id": "b52d578a",
   "metadata": {},
   "source": [
    "# Generador del dataset con filtro ideal (pt_min = 0.5)"
   ]
  },
  {
   "cell_type": "code",
   "execution_count": null,
   "id": "02246f94",
   "metadata": {},
   "outputs": [],
   "source": [
    "import os\n",
    "from tqdm import tqdm\n",
    "\n",
    "\n",
    "\n",
    "def create_dataset(event_names, output_dir, pt_min, pt_max, dtheta, dphi):\n",
    "    os.makedirs(output_dir, exist_ok=True)\n",
    "\n",
    "    for ev_id in tqdm(event_names, desc=\"Creando dataset\"):\n",
    "        graphs, _ = process_event_batches(ev_id, drop_y=False, get_true_tracks=False,\n",
    "                                          dtheta=dtheta, dphi=dphi,\n",
    "                                          pt_min=pt_min, pt_max=pt_max)\n",
    "\n",
    "        for i, g in enumerate(graphs):\n",
    "            filename = f\"{ev_id}_graph_{i}.pt\"\n",
    "            torch.save(g, os.path.join(output_dir, filename))\n",
    "            \n",
    "\n",
    "events = nums[0:10]\n",
    "\n",
    "\n",
    "ruta_save = 'data/dataset_graphs_ideal'\n",
    "create_dataset(events, ruta_save, 0.5, 1000, dtheta=np.pi*2, dphi=np.pi)"
   ]
  },
  {
   "cell_type": "markdown",
   "id": "02927138",
   "metadata": {},
   "source": [
    "# Generador con filtro real (pt_min = 0, el filtro se encarga de distinguir)"
   ]
  },
  {
   "cell_type": "code",
   "execution_count": null,
   "id": "9a67089b",
   "metadata": {},
   "outputs": [],
   "source": [
    "events = nums[0:10]\n",
    "create_dataset(events, 'dataset_graphs_real', 0, 1000, dtheta=np.pi*2, dphi=np.pi)\n"
   ]
  },
  {
   "cell_type": "code",
   "execution_count": null,
   "id": "1b9eca29",
   "metadata": {},
   "outputs": [],
   "source": [
    "#Para conocer la distribución entre las dos clases de hits de un grafo generado y guardado en disco en la ruta train_dir\n",
    "train_dir = 'data/dataset_graphs_real/test'\n",
    "\n",
    "pt_files = list(Path(train_dir).glob(\"*.pt\"))\n",
    "if not pt_files:\n",
    "    raise RuntimeError(f\"No hay archivos .pt en {train_dir}\")\n",
    "file_path = pt_files[3]  \n",
    "g = torch.load(str(file_path), weights_only=False)\n",
    "\n",
    "y = g.y \n",
    "num_pos = int((y == 1).sum().item())\n",
    "num_neg = int((y == 0).sum().item())\n",
    "\n",
    "ratio = num_neg / num_pos if num_pos > 0 else float('inf')\n",
    "print(f\"Archivo: {file_path.name}\")\n",
    "print(f\"Positivos (True): {num_pos}\")\n",
    "print(f\"Negativos (False): {num_neg}\")\n",
    "print(f\"Proporción False:True = {num_neg}:{num_pos} ≃ {ratio:.3f}:1\")\n"
   ]
  }
 ],
 "metadata": {
  "kernelspec": {
   "display_name": "Python 3",
   "language": "python",
   "name": "python3"
  },
  "language_info": {
   "codemirror_mode": {
    "name": "ipython",
    "version": 3
   },
   "file_extension": ".py",
   "mimetype": "text/x-python",
   "name": "python",
   "nbconvert_exporter": "python",
   "pygments_lexer": "ipython3",
   "version": "3.13.5"
  }
 },
 "nbformat": 4,
 "nbformat_minor": 5
}
